{
  "nbformat": 4,
  "nbformat_minor": 0,
  "metadata": {
    "colab": {
      "name": "Dheeraj Prajapati - Experiment_5.3_EnrollmentNo.ipynb",
      "provenance": [],
      "collapsed_sections": [],
      "include_colab_link": true
    },
    "kernelspec": {
      "name": "python3",
      "display_name": "Python 3"
    },
    "language_info": {
      "name": "python"
    }
  },
  "cells": [
    {
      "cell_type": "markdown",
      "metadata": {
        "id": "view-in-github",
        "colab_type": "text"
      },
      "source": [
        "<a href=\"https://colab.research.google.com/github/DHEERAJPRAJAPATI/DHEERAJPRAJAPATI/blob/main/Dheeraj_Prajapati_Experiment_5_3_EnrollmentNo.ipynb\" target=\"_parent\"><img src=\"https://colab.research.google.com/assets/colab-badge.svg\" alt=\"Open In Colab\"/></a>"
      ]
    },
    {
      "cell_type": "markdown",
      "metadata": {
        "id": "RoUE-aw7JSb5"
      },
      "source": [
        "# **Name: Dheeraj Prajapati\n",
        "# **Enrollment No.:20SOECE11113\n",
        "# **Class:3CEB(INTERNATIONAL STUDENT)"
      ]
    },
    {
      "cell_type": "markdown",
      "metadata": {
        "id": "9CCYqf6OJMjj"
      },
      "source": [
        "# **Experiment-5.3 Understanding the self variable**"
      ]
    },
    {
      "cell_type": "markdown",
      "metadata": {
        "id": "kEJqO5k7ayz1"
      },
      "source": [
        "The following program will illustrate the usage of self argument.\n",
        "\n",
        "Below is a simple class that defines three methods:\n",
        "\n",
        "*   First method sets the model and registration number\n",
        "*   Second method returns the model\n",
        "*   Third method returns the registration number\n",
        "\n",
        "Set details of the car by taking the inputs from the user. Call the methods getModel and getRegno on two instances (Hyundai and Maruthi) and print the result."
      ]
    },
    {
      "cell_type": "markdown",
      "metadata": {
        "id": "IK9T-HY_U7Eq"
      },
      "source": [
        "![Experiment-3 Understanding the self variable.PNG](data:image/png;base64,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)"
      ]
    },
    {
      "cell_type": "code",
      "metadata": {
        "id": "zCz_H9Ew_3Ag",
        "colab": {
          "base_uri": "https://localhost:8080/"
        },
        "outputId": "1beca845-4e05-4965-a247-dc997128452a"
      },
      "source": [
        "class Car:\n",
        "\tdef setDetails(self, model, regno):\n",
        "\t\tself.model=model\n",
        "\t\tself.regno=regno\n",
        "\t\t\n",
        "\tdef getModel(self):\n",
        "\t\treturn self.model\n",
        "\t\t\n",
        "\tdef getRegno(self):\n",
        "\t\treturn self.regno\n",
        "\n",
        "Hyundai = Car()\n",
        "Maruthi = Car()\n",
        "p=input('enter model of the car1:')\n",
        "q=input('enter regno of the car1:')\n",
        "r=input('enter model of the car2:')\n",
        "s=input('enter regno of the car2:')\n",
        "\n",
        "Hyundai.setDetails(p,q)\n",
        "Maruthi.setDetails(r,s)\n",
        "\n",
        "print(\"Hyundai Car Details():\",Hyundai.getModel(),Hyundai.getRegno())\n",
        "print(\"Maruthi Car Details:\",Maruthi.getModel(),Maruthi.getRegno())"
      ],
      "execution_count": null,
      "outputs": [
        {
          "output_type": "stream",
          "name": "stdout",
          "text": [
            "enter model of the car1:Tuscon\n",
            "enter regno of the car1:TS19562A\n",
            "enter model of the car2:Baleno\n",
            "enter regno of the car2:Ap12345\n",
            "Hyundai Car Details(): Tuscon TS19562A\n",
            "Maruthi Car Details: Baleno Ap12345\n"
          ]
        }
      ]
    },
    {
      "cell_type": "code",
      "metadata": {
        "colab": {
          "base_uri": "https://localhost:8080/"
        },
        "id": "NkPnH0ojM2SS",
        "outputId": "1fb67ee5-171a-443f-aed7-eb79f0cfe627"
      },
      "source": [
        "# test case 2\n",
        "class Car:\n",
        "\tdef setDetails(self, model, regno):\n",
        "\t\tself.model=model\n",
        "\t\tself.regno=regno\n",
        "\t\t\n",
        "\tdef getModel(self):\n",
        "\t\treturn self.model\n",
        "\t\t\n",
        "\tdef getRegno(self):\n",
        "\t\treturn self.regno\n",
        "\n",
        "Hyundai = Car()\n",
        "Maruthi = Car()\n",
        "p=input('enter model of the car1:')\n",
        "q=input('enter regno of the car1:')\n",
        "r=input('enter model of the car2:')\n",
        "s=input('enter regno of the car2:')\n",
        "\n",
        "Hyundai.setDetails(p,q)\n",
        "Maruthi.setDetails(r,s)\n",
        "\n",
        "print(\"Hyundai Car Details():\",Hyundai.getModel(),Hyundai.getRegno())\n",
        "print(\"Maruthi Car Details:\",Maruthi.getModel(),Maruthi.getRegno())"
      ],
      "execution_count": null,
      "outputs": [
        {
          "output_type": "stream",
          "name": "stdout",
          "text": [
            "enter model of the car1:Venue\n",
            "enter regno of the car1:Ap1234\n",
            "enter model of the car2:XL6\n",
            "enter regno of the car2:P32658\n",
            "Hyundai Car Details(): Venue Ap1234\n",
            "Maruthi Car Details: XL6 P32658\n"
          ]
        }
      ]
    }
  ]
}